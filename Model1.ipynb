{
  "nbformat": 4,
  "nbformat_minor": 0,
  "metadata": {
    "colab": {
      "name": "Model1.ipynb",
      "version": "0.3.2",
      "provenance": [],
      "collapsed_sections": []
    },
    "kernelspec": {
      "name": "python3",
      "display_name": "Python 3"
    },
    "accelerator": "GPU"
  },
  "cells": [
    {
      "cell_type": "code",
      "metadata": {
        "id": "xMSjiJo-ZB1D",
        "colab_type": "code",
        "outputId": "656f3e54-e484-4607-caf9-a6d290d8cfd3",
        "colab": {
          "base_uri": "https://localhost:8080/",
          "height": 34
        }
      },
      "source": [
        "import numpy as np\n",
        "import pandas as pd\n",
        "from keras.layers import Input, Dense, Embedding, Conv2D, MaxPool2D\n",
        "from keras.layers import Reshape, Flatten, Dropout, Concatenate\n",
        "from keras.callbacks import ModelCheckpoint\n",
        "from keras.optimizers import Adam\n",
        "from keras.models import Model\n",
        "from keras.preprocessing.text import Tokenizer\n",
        "from keras.preprocessing.sequence import pad_sequences\n",
        "from keras.models import Sequential\n",
        "from keras.layers import Dense, Flatten, LSTM, Conv1D, MaxPooling1D, Dropout, Activation\n",
        "from sklearn.model_selection import train_test_split\n",
        "import time\n",
        "from keras import optimizers"
      ],
      "execution_count": 0,
      "outputs": [
        {
          "output_type": "stream",
          "text": [
            "Using TensorFlow backend.\n"
          ],
          "name": "stderr"
        }
      ]
    },
    {
      "cell_type": "code",
      "metadata": {
        "id": "nrKL75JdZHzl",
        "colab_type": "code",
        "outputId": "1b99b4b3-cfa6-4f4c-8d62-76505007f57c",
        "colab": {
          "base_uri": "https://localhost:8080/",
          "height": 105
        }
      },
      "source": [
        "!apt-get install -y -qq software-properties-common python-software-properties module-init-tools\n",
        "!add-apt-repository -y ppa:alessandro-strada/ppa 2>&1 > /dev/null\n",
        "!apt-get update -qq 2>&1 > /dev/null\n",
        "!apt-get -y install -qq google-drive-ocamlfuse fuse\n",
        "from google.colab import auth\n",
        "auth.authenticate_user()\n",
        "from oauth2client.client import GoogleCredentials\n",
        "creds = GoogleCredentials.get_application_default()\n",
        "import getpass\n",
        "!google-drive-ocamlfuse -headless -id={creds.client_id} -secret={creds.client_secret} < /dev/null 2>&1 | grep URL\n",
        "vcode = getpass.getpass()\n",
        "!echo {vcode} | google-drive-ocamlfuse -headless -id={creds.client_id} -secret={creds.client_secret}"
      ],
      "execution_count": 0,
      "outputs": [
        {
          "output_type": "stream",
          "text": [
            "Please, open the following URL in a web browser: https://accounts.google.com/o/oauth2/auth?client_id=32555940559.apps.googleusercontent.com&redirect_uri=urn%3Aietf%3Awg%3Aoauth%3A2.0%3Aoob&scope=https%3A%2F%2Fwww.googleapis.com%2Fauth%2Fdrive&response_type=code&access_type=offline&approval_prompt=force\r\n",
            "··········\n",
            "Please, open the following URL in a web browser: https://accounts.google.com/o/oauth2/auth?client_id=32555940559.apps.googleusercontent.com&redirect_uri=urn%3Aietf%3Awg%3Aoauth%3A2.0%3Aoob&scope=https%3A%2F%2Fwww.googleapis.com%2Fauth%2Fdrive&response_type=code&access_type=offline&approval_prompt=force\n",
            "Please enter the verification code: Access token retrieved correctly.\n"
          ],
          "name": "stdout"
        }
      ]
    },
    {
      "cell_type": "code",
      "metadata": {
        "id": "H_EIrKBdZcwZ",
        "colab_type": "code",
        "colab": {}
      },
      "source": [
        "!mkdir -p drive\n",
        "!google-drive-ocamlfuse drive -o nonempty"
      ],
      "execution_count": 0,
      "outputs": []
    },
    {
      "cell_type": "code",
      "metadata": {
        "id": "QP-SaYoYZjEo",
        "colab_type": "code",
        "colab": {}
      },
      "source": [
        "import os\n",
        "os.chdir('drive')"
      ],
      "execution_count": 0,
      "outputs": []
    },
    {
      "cell_type": "code",
      "metadata": {
        "id": "864LA0J3Zl0n",
        "colab_type": "code",
        "outputId": "55fa8678-b93d-452d-f8e2-bb8ad4d3f76a",
        "colab": {
          "base_uri": "https://localhost:8080/",
          "height": 34
        }
      },
      "source": [
        "#data_train = pd.read_csv('v1/Preprocessed_using_translator_train.csv')\n",
        "data_train = pd.read_csv('Preprocessed_using_translator_train.csv')\n",
        "data_train.shape"
      ],
      "execution_count": 0,
      "outputs": [
        {
          "output_type": "execute_result",
          "data": {
            "text/plain": [
              "(400000, 3)"
            ]
          },
          "metadata": {
            "tags": []
          },
          "execution_count": 11
        }
      ]
    },
    {
      "cell_type": "code",
      "metadata": {
        "id": "gQpVZ80MZl_D",
        "colab_type": "code",
        "outputId": "bc683fe0-715f-4f15-f509-89e668ffeaa7",
        "colab": {
          "base_uri": "https://localhost:8080/",
          "height": 34
        }
      },
      "source": [
        "#data_test= pd.read_csv(\"v1/Preprocessed_using_translator_test.csv\")\n",
        "data_test= pd.read_csv(\"Preprocessed_using_translator_test.csv\")\n",
        "data_test.shape"
      ],
      "execution_count": 0,
      "outputs": [
        {
          "output_type": "execute_result",
          "data": {
            "text/plain": [
              "(100000, 2)"
            ]
          },
          "metadata": {
            "tags": []
          },
          "execution_count": 12
        }
      ]
    },
    {
      "cell_type": "code",
      "metadata": {
        "id": "zSu08Q1Xx1dj",
        "colab_type": "code",
        "outputId": "a208fe3d-fc7e-432b-81fa-5e58a089d210",
        "colab": {
          "base_uri": "https://localhost:8080/",
          "height": 68
        }
      },
      "source": [
        "tokenize = Tokenizer(num_words= 10)\n",
        "tokenize.fit_on_texts(['Hello, today is a good day hello Hello hi!'])\n",
        "sequencd = tokenize.texts_to_sequences(['Hello, is today a good!'])\n",
        "print(sequencd)\n",
        "data = pad_sequences(sequencd)\n",
        "print(data)\n",
        "\n",
        "print(tokenize)"
      ],
      "execution_count": 0,
      "outputs": [
        {
          "output_type": "stream",
          "text": [
            "[[1, 3, 2, 4, 5]]\n",
            "[[1 3 2 4 5]]\n",
            "<keras.preprocessing.text.Tokenizer object at 0x7f015d541320>\n"
          ],
          "name": "stdout"
        }
      ]
    },
    {
      "cell_type": "code",
      "metadata": {
        "id": "ZTAgHa43Zps1",
        "colab_type": "code",
        "colab": {}
      },
      "source": [
        "data_train[\"text\"] = data_train[\"text\"].apply(str)\n",
        "data_test[\"text\"] = data_test[\"text\"].apply(str)\n",
        "ylabels = pd.get_dummies(data_train.iloc[:,2].values)\n",
        "vocabulary_size = 10000 \n",
        "tokenizer = Tokenizer(num_words= vocabulary_size)\n",
        "tokenizer.fit_on_texts(data_train[\"text\"].values)\n",
        "sequences = tokenizer.texts_to_sequences(data_train[\"text\"].values)\n",
        "data = pad_sequences(sequences)\n"
      ],
      "execution_count": 0,
      "outputs": []
    },
    {
      "cell_type": "code",
      "metadata": {
        "id": "VvlVZs6BZpwd",
        "colab_type": "code",
        "outputId": "8d7346be-3fec-417f-c5d9-3229b06d7c5c",
        "colab": {
          "base_uri": "https://localhost:8080/",
          "height": 34
        }
      },
      "source": [
        "xtrain, xval, ytrain, yval = train_test_split(data, ylabels, test_size=0.10, random_state=960)\n",
        "print(xtrain.shape, xval.shape, ytrain.shape, yval.shape)"
      ],
      "execution_count": 0,
      "outputs": [
        {
          "output_type": "stream",
          "text": [
            "(360000, 988) (40000, 988) (360000, 3) (40000, 3)\n"
          ],
          "name": "stdout"
        }
      ]
    },
    {
      "cell_type": "code",
      "metadata": {
        "id": "_GdTxwUCag__",
        "colab_type": "code",
        "outputId": "f4c3b96b-fcc9-4dd6-aee6-1cbd7a9030b7",
        "colab": {
          "base_uri": "https://localhost:8080/",
          "height": 734
        }
      },
      "source": [
        "sequence_length = data.shape[1]\n",
        "embedding_dim = 76\n",
        "num_filters = 32\n",
        "filter_sizes = [33, 33, 33]\n",
        "drop = 0.2\n",
        "\n",
        "inputs = Input(shape=(sequence_length,), dtype='int32')\n",
        "embedding = Embedding(input_dim=vocabulary_size, output_dim=embedding_dim, input_length=sequence_length)(inputs)\n",
        "reshape = Reshape((sequence_length,embedding_dim,1))(embedding)\n",
        "\n",
        "c0 = Conv2D(num_filters, kernel_size=(filter_sizes[0], embedding_dim), padding='valid', kernel_initializer='normal', activation='relu')(reshape)\n",
        "c1 = Conv2D(num_filters, kernel_size=(filter_sizes[1], embedding_dim), padding='valid', kernel_initializer='normal', activation='relu')(reshape)\n",
        "c2 = Conv2D(num_filters, kernel_size=(filter_sizes[2], embedding_dim), padding='valid', kernel_initializer='normal', activation='relu')(reshape)\n",
        "\n",
        "DP0 = MaxPool2D(pool_size=(sequence_length - filter_sizes[0] + 1, 1), strides=(1,1), padding='valid')(c0)\n",
        "DP1 = MaxPool2D(pool_size=(sequence_length - filter_sizes[1] + 1, 1), strides=(1,1), padding='valid')(c1)\n",
        "DP2 = MaxPool2D(pool_size=(sequence_length - filter_sizes[2] + 1, 1), strides=(1,1), padding='valid')(c2)\n",
        "\n",
        "CT = Concatenate(axis=1)([DP0, DP1, DP2])\n",
        "\n",
        "flatten = Flatten()(CT)\n",
        "dropout = Dropout(drop)(flatten)\n",
        "output = Dense(units=3, activation='softmax')(dropout)\n",
        "\n",
        "batch_size=32\n",
        "epochs = 10\n",
        "\n",
        "model = Model(inputs=inputs, outputs=output)\n",
        "\n",
        "checkpoint = ModelCheckpoint('weights.{epoch:03d}-{val_acc:.4f}.hdf5', monitor='val_acc', verbose=1, save_best_only=True, mode='auto')\n",
        "adam = Adam(lr=1e-4, beta_1=0.9, beta_2=0.999, epsilon=1e-08, decay=0.0)\n",
        "\n",
        "model.compile(optimizer=adam, loss='categorical_crossentropy', metrics=['accuracy'])\n",
        "\n",
        "st = time.time()\n",
        "model.fit(xtrain, ytrain, batch_size=batch_size, epochs=epochs, verbose=1, callbacks=[checkpoint], validation_data=(xval, yval))  # starts training\n",
        "en = time.time()"
      ],
      "execution_count": 0,
      "outputs": [
        {
          "output_type": "stream",
          "text": [
            "Train on 360000 samples, validate on 40000 samples\n",
            "Epoch 1/10\n",
            " 21312/360000 [>.............................] - ETA: 14:26 - loss: 0.5253 - acc: 0.7532"
          ],
          "name": "stdout"
        },
        {
          "output_type": "stream",
          "text": [
            "359968/360000 [============================>.] - ETA: 0s - loss: 0.2445 - acc: 0.8962"
          ],
          "name": "stdout"
        },
        {
          "output_type": "stream",
          "text": [
            "\b\b\b\b\b\b\b\b\b\b\b\b\b\b\b\b\b\b\b\b\b\b\b\b\b\b\b\b\b\b\b\b\b\b\b\b\b\b\b\b\b\b\b\b\b\b\b\b\b\b\b\b\b\b\b\b\b\b\b\b\b\b\b\b\b\b\b\b\b\b\b\b\b\b\b\b\b\b\b\b\b\b\b\b\b\r360000/360000 [==============================] - 922s 3ms/step - loss: 0.2445 - acc: 0.8962 - val_loss: 0.1816 - val_acc: 0.9258\n",
            "\n",
            "Epoch 00001: val_acc improved from -inf to 0.92578, saving model to weights.001-0.9258.hdf5\n",
            "Epoch 2/10\n",
            "  7776/360000 [..............................] - ETA: 14:32 - loss: 0.1807 - acc: 0.9274"
          ],
          "name": "stdout"
        },
        {
          "output_type": "stream",
          "text": [
            "359968/360000 [============================>.] - ETA: 0s - loss: 0.1737 - acc: 0.9300"
          ],
          "name": "stdout"
        },
        {
          "output_type": "stream",
          "text": [
            "\b\b\b\b\b\b\b\b\b\b\b\b\b\b\b\b\b\b\b\b\b\b\b\b\b\b\b\b\b\b\b\b\b\b\b\b\b\b\b\b\b\b\b\b\b\b\b\b\b\b\b\b\b\b\b\b\b\b\b\b\b\b\b\b\b\b\b\b\b\b\b\b\b\b\b\b\b\b\b\b\b\b\b\b\b\r360000/360000 [==============================] - 919s 3ms/step - loss: 0.1737 - acc: 0.9300 - val_loss: 0.1677 - val_acc: 0.9324\n",
            "\n",
            "Epoch 00002: val_acc improved from 0.92578 to 0.93240, saving model to weights.002-0.9324.hdf5\n",
            "Epoch 3/10\n",
            "  7712/360000 [..............................] - ETA: 14:32 - loss: 0.1641 - acc: 0.9307"
          ],
          "name": "stdout"
        },
        {
          "output_type": "stream",
          "text": [
            "359968/360000 [============================>.] - ETA: 0s - loss: 0.1567 - acc: 0.9375"
          ],
          "name": "stdout"
        },
        {
          "output_type": "stream",
          "text": [
            "\b\b\b\b\b\b\b\b\b\b\b\b\b\b\b\b\b\b\b\b\b\b\b\b\b\b\b\b\b\b\b\b\b\b\b\b\b\b\b\b\b\b\b\b\b\b\b\b\b\b\b\b\b\b\b\b\b\b\b\b\b\b\b\b\b\b\b\b\b\b\b\b\b\b\b\b\b\b\b\b\b\b\b\b\b\r360000/360000 [==============================] - 918s 3ms/step - loss: 0.1567 - acc: 0.9375 - val_loss: 0.1584 - val_acc: 0.9371\n",
            "\n",
            "Epoch 00003: val_acc improved from 0.93240 to 0.93713, saving model to weights.003-0.9371.hdf5\n",
            "Epoch 4/10\n",
            "  7712/360000 [..............................] - ETA: 14:25 - loss: 0.1442 - acc: 0.9436"
          ],
          "name": "stdout"
        },
        {
          "output_type": "stream",
          "text": [
            "359968/360000 [============================>.] - ETA: 0s - loss: 0.1438 - acc: 0.9434"
          ],
          "name": "stdout"
        },
        {
          "output_type": "stream",
          "text": [
            "\b\b\b\b\b\b\b\b\b\b\b\b\b\b\b\b\b\b\b\b\b\b\b\b\b\b\b\b\b\b\b\b\b\b\b\b\b\b\b\b\b\b\b\b\b\b\b\b\b\b\b\b\b\b\b\b\b\b\b\b\b\b\b\b\b\b\b\b\b\b\b\b\b\b\b\b\b\b\b\b\b\b\b\b\b\r360000/360000 [==============================] - 919s 3ms/step - loss: 0.1438 - acc: 0.9434 - val_loss: 0.1533 - val_acc: 0.9389\n",
            "\n",
            "Epoch 00004: val_acc improved from 0.93713 to 0.93892, saving model to weights.004-0.9389.hdf5\n",
            "Epoch 5/10\n",
            "  7712/360000 [..............................] - ETA: 14:32 - loss: 0.1240 - acc: 0.9512"
          ],
          "name": "stdout"
        },
        {
          "output_type": "stream",
          "text": [
            "359968/360000 [============================>.] - ETA: 0s - loss: 0.1332 - acc: 0.9480"
          ],
          "name": "stdout"
        },
        {
          "output_type": "stream",
          "text": [
            "\b\b\b\b\b\b\b\b\b\b\b\b\b\b\b\b\b\b\b\b\b\b\b\b\b\b\b\b\b\b\b\b\b\b\b\b\b\b\b\b\b\b\b\b\b\b\b\b\b\b\b\b\b\b\b\b\b\b\b\b\b\b\b\b\b\b\b\b\b\b\b\b\b\b\b\b\b\b\b\b\b\b\b\b\b\r360000/360000 [==============================] - 919s 3ms/step - loss: 0.1332 - acc: 0.9480 - val_loss: 0.1525 - val_acc: 0.9395\n",
            "\n",
            "Epoch 00005: val_acc improved from 0.93892 to 0.93953, saving model to weights.005-0.9395.hdf5\n",
            "Epoch 6/10\n",
            "  7744/360000 [..............................] - ETA: 14:29 - loss: 0.1248 - acc: 0.9545"
          ],
          "name": "stdout"
        },
        {
          "output_type": "stream",
          "text": [
            "359968/360000 [============================>.] - ETA: 0s - loss: 0.1231 - acc: 0.9524"
          ],
          "name": "stdout"
        },
        {
          "output_type": "stream",
          "text": [
            "\b\b\b\b\b\b\b\b\b\b\b\b\b\b\b\b\b\b\b\b\b\b\b\b\b\b\b\b\b\b\b\b\b\b\b\b\b\b\b\b\b\b\b\b\b\b\b\b\b\b\b\b\b\b\b\b\b\b\b\b\b\b\b\b\b\b\b\b\b\b\b\b\b\b\b\b\b\b\b\b\b\b\b\b\b\r360000/360000 [==============================] - 914s 3ms/step - loss: 0.1231 - acc: 0.9524 - val_loss: 0.1496 - val_acc: 0.9407\n",
            "\n",
            "Epoch 00006: val_acc improved from 0.93953 to 0.94068, saving model to weights.006-0.9407.hdf5\n",
            "Epoch 7/10\n",
            "  7712/360000 [..............................] - ETA: 14:23 - loss: 0.1085 - acc: 0.9578"
          ],
          "name": "stdout"
        },
        {
          "output_type": "stream",
          "text": [
            "359968/360000 [============================>.] - ETA: 0s - loss: 0.1133 - acc: 0.9568"
          ],
          "name": "stdout"
        },
        {
          "output_type": "stream",
          "text": [
            "\b\b\b\b\b\b\b\b\b\b\b\b\b\b\b\b\b\b\b\b\b\b\b\b\b\b\b\b\b\b\b\b\b\b\b\b\b\b\b\b\b\b\b\b\b\b\b\b\b\b\b\b\b\b\b\b\b\b\b\b\b\b\b\b\b\b\b\b\b\b\b\b\b\b\b\b\b\b\b\b\b\b\b\b\b\r360000/360000 [==============================] - 915s 3ms/step - loss: 0.1133 - acc: 0.9568 - val_loss: 0.1505 - val_acc: 0.9417\n",
            "\n",
            "Epoch 00007: val_acc improved from 0.94068 to 0.94168, saving model to weights.007-0.9417.hdf5\n",
            "Epoch 8/10\n",
            "  7712/360000 [..............................] - ETA: 14:27 - loss: 0.1021 - acc: 0.9607"
          ],
          "name": "stdout"
        },
        {
          "output_type": "stream",
          "text": [
            "359968/360000 [============================>.] - ETA: 0s - loss: 0.1042 - acc: 0.9610"
          ],
          "name": "stdout"
        },
        {
          "output_type": "stream",
          "text": [
            "\b\b\b\b\b\b\b\b\b\b\b\b\b\b\b\b\b\b\b\b\b\b\b\b\b\b\b\b\b\b\b\b\b\b\b\b\b\b\b\b\b\b\b\b\b\b\b\b\b\b\b\b\b\b\b\b\b\b\b\b\b\b\b\b\b\b\b\b\b\b\b\b\b\b\b\b\b\b\b\b\b\b\b\b\b\r360000/360000 [==============================] - 914s 3ms/step - loss: 0.1042 - acc: 0.9610 - val_loss: 0.1515 - val_acc: 0.9418\n",
            "\n",
            "Epoch 00008: val_acc improved from 0.94168 to 0.94178, saving model to weights.008-0.9418.hdf5\n",
            "Epoch 9/10\n",
            "  7712/360000 [..............................] - ETA: 14:26 - loss: 0.0943 - acc: 0.9654"
          ],
          "name": "stdout"
        },
        {
          "output_type": "stream",
          "text": [
            "359968/360000 [============================>.] - ETA: 0s - loss: 0.0956 - acc: 0.9646"
          ],
          "name": "stdout"
        },
        {
          "output_type": "stream",
          "text": [
            "360000/360000 [==============================] - 913s 3ms/step - loss: 0.0956 - acc: 0.9646 - val_loss: 0.1532 - val_acc: 0.9417\n",
            "\n",
            "Epoch 00009: val_acc did not improve from 0.94178\n",
            "Epoch 10/10\n",
            " 11392/360000 [..............................] - ETA: 14:11 - loss: 0.0828 - acc: 0.9711"
          ],
          "name": "stdout"
        },
        {
          "output_type": "stream",
          "text": [
            "359968/360000 [============================>.] - ETA: 0s - loss: 0.0868 - acc: 0.9682"
          ],
          "name": "stdout"
        },
        {
          "output_type": "stream",
          "text": [
            "\b\b\b\b\b\b\b\b\b\b\b\b\b\b\b\b\b\b\b\b\b\b\b\b\b\b\b\b\b\b\b\b\b\b\b\b\b\b\b\b\b\b\b\b\b\b\b\b\b\b\b\b\b\b\b\b\b\b\b\b\b\b\b\b\b\b\b\b\b\b\b\b\b\b\b\b\b\b\b\b\b\b\b\b\b\r360000/360000 [==============================] - 913s 3ms/step - loss: 0.0868 - acc: 0.9682 - val_loss: 0.1568 - val_acc: 0.9420\n",
            "\n",
            "Epoch 00010: val_acc improved from 0.94178 to 0.94198, saving model to weights.010-0.9420.hdf5\n"
          ],
          "name": "stdout"
        }
      ]
    },
    {
      "cell_type": "code",
      "metadata": {
        "id": "75Tk2avP90nl",
        "colab_type": "code",
        "outputId": "8f2dba26-57cc-4852-9e28-9d00306e3bf0",
        "colab": {
          "base_uri": "https://localhost:8080/",
          "height": 51
        }
      },
      "source": [
        "sequencesTest = tokenizer.texts_to_sequences(data_test[\"text\"].values)\n",
        "dataTest = pad_sequences(sequencesTest, maxlen=988)\n",
        "print(data.shape)\n",
        "print(dataTest.shape)\n"
      ],
      "execution_count": 0,
      "outputs": [
        {
          "output_type": "stream",
          "text": [
            "(400000, 988)\n",
            "(100000, 988)\n"
          ],
          "name": "stdout"
        }
      ]
    },
    {
      "cell_type": "code",
      "metadata": {
        "id": "d6LI-9K--IEh",
        "colab_type": "code",
        "outputId": "cf2a102a-8a57-4fd5-a6e0-7458b1d3cfd9",
        "colab": {
          "base_uri": "https://localhost:8080/",
          "height": 34
        }
      },
      "source": [
        "print(dataTest.shape)\n"
      ],
      "execution_count": 0,
      "outputs": [
        {
          "output_type": "stream",
          "text": [
            "(100000, 988)\n"
          ],
          "name": "stdout"
        }
      ]
    },
    {
      "cell_type": "code",
      "metadata": {
        "id": "UeZT6lvaAlmL",
        "colab_type": "code",
        "colab": {}
      },
      "source": [
        "sequence_length = data.shape[1]\n",
        "embedding_dim = 76\n",
        "num_filters = 32\n",
        "filter_sizes = [33, 33, 33]\n",
        "drop = 0.2\n",
        "\n",
        "inputs = Input(shape=(sequence_length,), dtype='int32')\n",
        "embedding = Embedding(input_dim=vocabulary_size, output_dim=embedding_dim, input_length=sequence_length)(inputs)\n",
        "reshape = Reshape((sequence_length,embedding_dim,1))(embedding)\n",
        "\n",
        "c0 = Conv2D(num_filters, kernel_size=(filter_sizes[0], embedding_dim), padding='valid', kernel_initializer='normal', activation='relu')(reshape)\n",
        "c1 = Conv2D(num_filters, kernel_size=(filter_sizes[1], embedding_dim), padding='valid', kernel_initializer='normal', activation='relu')(reshape)\n",
        "c2 = Conv2D(num_filters, kernel_size=(filter_sizes[2], embedding_dim), padding='valid', kernel_initializer='normal', activation='relu')(reshape)\n",
        "\n",
        "DP0 = MaxPool2D(pool_size=(sequence_length - filter_sizes[0] + 1, 1), strides=(1,1), padding='valid')(c0)\n",
        "DP1 = MaxPool2D(pool_size=(sequence_length - filter_sizes[1] + 1, 1), strides=(1,1), padding='valid')(c1)\n",
        "DP2 = MaxPool2D(pool_size=(sequence_length - filter_sizes[2] + 1, 1), strides=(1,1), padding='valid')(c2)\n",
        "\n",
        "CT = Concatenate(axis=1)([DP0, DP1, DP2])\n",
        "\n",
        "flatten = Flatten()(CT)\n",
        "dropout = Dropout(drop)(flatten)\n",
        "output = Dense(units=3, activation='softmax')(dropout)\n",
        "\n",
        "batch_size=32\n",
        "epochs = 10\n",
        "\n",
        "model = Model(inputs=inputs, outputs=output)"
      ],
      "execution_count": 0,
      "outputs": []
    },
    {
      "cell_type": "code",
      "metadata": {
        "id": "SZ5mPJWAAnuT",
        "colab_type": "code",
        "colab": {}
      },
      "source": [
        "model.load_weights(\"hello.hdf5\")"
      ],
      "execution_count": 0,
      "outputs": []
    },
    {
      "cell_type": "code",
      "metadata": {
        "id": "go8IjZeh__v_",
        "colab_type": "code",
        "outputId": "1c89959d-563a-4f2b-cde8-9f93f9bd511e",
        "colab": {
          "base_uri": "https://localhost:8080/",
          "height": 34
        }
      },
      "source": [
        "\n",
        "\n",
        "yPred = model.predict(dataTest, verbose = 1)\n",
        "answer = np.argmax(yPred,axis=1)\n",
        "\n"
      ],
      "execution_count": 0,
      "outputs": [
        {
          "output_type": "stream",
          "text": [
            "100000/100000 [==============================] - 79s 793us/step\n"
          ],
          "name": "stdout"
        }
      ]
    },
    {
      "cell_type": "code",
      "metadata": {
        "id": "Tg9MJ21GAHl8",
        "colab_type": "code",
        "colab": {}
      },
      "source": [
        "newdataTest = pd.DataFrame({ 'label':answer})\n",
        "newdataTest.index += 1\n",
        "newdataTest.to_csv(\"Submission.csv\")"
      ],
      "execution_count": 0,
      "outputs": []
    },
    {
      "cell_type": "code",
      "metadata": {
        "id": "X7_klze3DP08",
        "colab_type": "code",
        "outputId": "c0cb34f3-85cb-4095-c275-61a200ec2078",
        "colab": {
          "base_uri": "https://localhost:8080/",
          "height": 85
        }
      },
      "source": [
        "newdataTest[\"label\"].value_counts()"
      ],
      "execution_count": 0,
      "outputs": [
        {
          "output_type": "execute_result",
          "data": {
            "text/plain": [
              "2    63749\n",
              "0    20547\n",
              "1    15704\n",
              "Name: label, dtype: int64"
            ]
          },
          "metadata": {
            "tags": []
          },
          "execution_count": 37
        }
      ]
    },
    {
      "cell_type": "code",
      "metadata": {
        "id": "9S8ax_8wR2e3",
        "colab_type": "code",
        "colab": {}
      },
      "source": [
        ""
      ],
      "execution_count": 0,
      "outputs": []
    }
  ]
}